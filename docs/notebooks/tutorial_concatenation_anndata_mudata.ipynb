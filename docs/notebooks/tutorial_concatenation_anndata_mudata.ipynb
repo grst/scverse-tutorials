{
 "cells": [
  {
   "cell_type": "markdown",
   "metadata": {},
   "source": [
    "# Concatenating multimodal experiments"
   ]
  },
  {
   "cell_type": "code",
   "execution_count": 171,
   "metadata": {},
   "outputs": [],
   "source": [
    "import scanpy as sc\n",
    "import mudata as md\n",
    "from mudata import MuData\n",
    "\n",
    "import anndata as ad\n",
    "import numpy as np\n",
    "import pandas as pd\n",
    "import warnings \n",
    "warnings.simplefilter(action='ignore', category=FutureWarning)\n",
    "\n",
    "np.random.seed(1979)"
   ]
  },
  {
   "cell_type": "code",
   "execution_count": 172,
   "metadata": {},
   "outputs": [
    {
     "data": {
      "text/plain": [
       "['brain3k_multiome',\n",
       " 'brain9k_multiome',\n",
       " 'pbmc3k_multiome',\n",
       " 'pbmc5k_citeseq',\n",
       " 'pbmc10k_multiome']"
      ]
     },
     "execution_count": 172,
     "metadata": {},
     "output_type": "execute_result"
    }
   ],
   "source": [
    "import mudatasets as mds\n",
    "mds.list_datasets()"
   ]
  },
  {
   "cell_type": "code",
   "execution_count": 173,
   "metadata": {},
   "outputs": [
    {
     "name": "stdout",
     "output_type": "stream",
     "text": [
      "■ File filtered_feature_bc_matrix.h5 from pbmc5k_citeseq has been found at /Users/fabiola.curion/mudatasets/pbmc5k_citeseq/filtered_feature_bc_matrix.h5\n",
      "■ Checksum is validated (md5) for filtered_feature_bc_matrix.h5\n",
      "■ Loading filtered_feature_bc_matrix.h5...\n"
     ]
    },
    {
     "name": "stderr",
     "output_type": "stream",
     "text": [
      "/Users/fabiola.curion/Documents/devel/miniconda3/envs/scversetutorials/lib/python3.10/site-packages/mudatasets/core.py:203: UserWarning: Dataset is in the 10X .h5 format and can't be loaded as backed.\n",
      "  warn(\"Dataset is in the 10X .h5 format and can't be loaded as backed.\")\n",
      "/Users/fabiola.curion/Documents/devel/miniconda3/envs/scversetutorials/lib/python3.10/site-packages/anndata/_core/anndata.py:1830: UserWarning: Variable names are not unique. To make them unique, call `.var_names_make_unique`.\n",
      "  utils.warn_names_duplicates(\"var\")\n",
      "/Users/fabiola.curion/Documents/devel/miniconda3/envs/scversetutorials/lib/python3.10/site-packages/mudata/_core/mudata.py:446: UserWarning: var_names are not unique. To make them unique, call `.var_names_make_unique`.\n",
      "  warnings.warn(\n"
     ]
    }
   ],
   "source": [
    "mds.info('pbmc5k_citeseq')\n",
    "pbmc5k=mds.load('pbmc5k_citeseq',files=['filtered_feature_bc_matrix.h5'])"
   ]
  },
  {
   "cell_type": "code",
   "execution_count": 174,
   "metadata": {},
   "outputs": [
    {
     "data": {
      "text/html": [
       "<pre>MuData object with n_obs × n_vars = 5247 × 33570\n",
       "  var:\t&#x27;gene_ids&#x27;, &#x27;feature_types&#x27;, &#x27;genome&#x27;\n",
       "  2 modalities\n",
       "    rna:\t5247 x 33538\n",
       "      var:\t&#x27;gene_ids&#x27;, &#x27;feature_types&#x27;, &#x27;genome&#x27;\n",
       "    prot:\t5247 x 32\n",
       "      var:\t&#x27;gene_ids&#x27;, &#x27;feature_types&#x27;, &#x27;genome&#x27;</pre>"
      ],
      "text/plain": [
       "MuData object with n_obs × n_vars = 5247 × 33570\n",
       "  var:\t'gene_ids', 'feature_types', 'genome'\n",
       "  2 modalities\n",
       "    rna:\t5247 x 33538\n",
       "      var:\t'gene_ids', 'feature_types', 'genome'\n",
       "    prot:\t5247 x 32\n",
       "      var:\t'gene_ids', 'feature_types', 'genome'"
      ]
     },
     "execution_count": 174,
     "metadata": {},
     "output_type": "execute_result"
    }
   ],
   "source": [
    "pbmc5k"
   ]
  },
  {
   "cell_type": "code",
   "execution_count": 175,
   "metadata": {},
   "outputs": [],
   "source": [
    "rna = pbmc5k.mod[\"rna\"]\n",
    "prot = pbmc5k.mod[\"prot\"]"
   ]
  },
  {
   "cell_type": "code",
   "execution_count": 176,
   "metadata": {},
   "outputs": [],
   "source": [
    "rna_a = rna[np.arange(300),np.sort(np.random.choice(np.arange(1000), 1000, replace=False))].copy()\n",
    "prot_a = prot[rna_a.obs_names,].copy()\n",
    "\n",
    "\n",
    "rna_b = rna[np.arange(500,900),np.sort(np.random.choice(np.arange(3000), 1000, replace=False))].copy()\n",
    "prot_b= prot[rna_b.obs_names,np.arange(15)].copy()\n"
   ]
  },
  {
   "cell_type": "code",
   "execution_count": 177,
   "metadata": {},
   "outputs": [],
   "source": [
    "mdata_a = MuData({\"prot\": prot_a, \"rna\":rna_a})\n",
    "mdata_b = MuData({\"prot\": prot_b, \"rna\":rna_b})\n"
   ]
  },
  {
   "cell_type": "code",
   "execution_count": 178,
   "metadata": {},
   "outputs": [
    {
     "data": {
      "text/html": [
       "<pre>MuData object with n_obs × n_vars = 300 × 1032\n",
       "  var:\t&#x27;gene_ids&#x27;, &#x27;feature_types&#x27;, &#x27;genome&#x27;\n",
       "  2 modalities\n",
       "    prot:\t300 x 32\n",
       "      var:\t&#x27;gene_ids&#x27;, &#x27;feature_types&#x27;, &#x27;genome&#x27;\n",
       "    rna:\t300 x 1000\n",
       "      var:\t&#x27;gene_ids&#x27;, &#x27;feature_types&#x27;, &#x27;genome&#x27;</pre>"
      ],
      "text/plain": [
       "MuData object with n_obs × n_vars = 300 × 1032\n",
       "  var:\t'gene_ids', 'feature_types', 'genome'\n",
       "  2 modalities\n",
       "    prot:\t300 x 32\n",
       "      var:\t'gene_ids', 'feature_types', 'genome'\n",
       "    rna:\t300 x 1000\n",
       "      var:\t'gene_ids', 'feature_types', 'genome'"
      ]
     },
     "execution_count": 178,
     "metadata": {},
     "output_type": "execute_result"
    }
   ],
   "source": [
    "mdata_a"
   ]
  },
  {
   "cell_type": "code",
   "execution_count": 179,
   "metadata": {},
   "outputs": [
    {
     "data": {
      "text/html": [
       "<pre>MuData object with n_obs × n_vars = 400 × 1015\n",
       "  var:\t&#x27;gene_ids&#x27;, &#x27;feature_types&#x27;, &#x27;genome&#x27;\n",
       "  2 modalities\n",
       "    prot:\t400 x 15\n",
       "      var:\t&#x27;gene_ids&#x27;, &#x27;feature_types&#x27;, &#x27;genome&#x27;\n",
       "    rna:\t400 x 1000\n",
       "      var:\t&#x27;gene_ids&#x27;, &#x27;feature_types&#x27;, &#x27;genome&#x27;</pre>"
      ],
      "text/plain": [
       "MuData object with n_obs × n_vars = 400 × 1015\n",
       "  var:\t'gene_ids', 'feature_types', 'genome'\n",
       "  2 modalities\n",
       "    prot:\t400 x 15\n",
       "      var:\t'gene_ids', 'feature_types', 'genome'\n",
       "    rna:\t400 x 1000\n",
       "      var:\t'gene_ids', 'feature_types', 'genome'"
      ]
     },
     "execution_count": 179,
     "metadata": {},
     "output_type": "execute_result"
    }
   ],
   "source": [
    "mdata_b"
   ]
  },
  {
   "cell_type": "code",
   "execution_count": 180,
   "metadata": {},
   "outputs": [
    {
     "data": {
      "text/plain": [
       "0"
      ]
     },
     "execution_count": 180,
     "metadata": {},
     "output_type": "execute_result"
    }
   ],
   "source": [
    "len(list(set(rna_a.obs_names.tolist()) & set(rna_b.obs_names.tolist())))"
   ]
  },
  {
   "cell_type": "code",
   "execution_count": 181,
   "metadata": {},
   "outputs": [
    {
     "data": {
      "text/plain": [
       "345"
      ]
     },
     "execution_count": 181,
     "metadata": {},
     "output_type": "execute_result"
    }
   ],
   "source": [
    "len(list(set(rna_a.var_names.tolist()) & set(rna_b.var_names.tolist())))"
   ]
  },
  {
   "cell_type": "code",
   "execution_count": 182,
   "metadata": {},
   "outputs": [
    {
     "data": {
      "text/plain": [
       "15"
      ]
     },
     "execution_count": 182,
     "metadata": {},
     "output_type": "execute_result"
    }
   ],
   "source": [
    "len(list(set(prot_a.var_names.tolist()) & set(prot_b.var_names.tolist())))"
   ]
  },
  {
   "cell_type": "markdown",
   "metadata": {},
   "source": [
    "## 1. Concatenate datasets, by modality"
   ]
  },
  {
   "cell_type": "markdown",
   "metadata": {},
   "source": [
    "In the `AnnData` convention, we store observations (samples or cells) in rows (`axis=0`)and variables (genes, proteins, atac regions, etc ...) in columns (`axis=1`).\n",
    "Both the rows and columns of this matrix are indexed, which allows us to link between each other the structured layers of the AnnData object. \n",
    "\n",
    "When we interact with both axes of these matrices, we modify the same axes on all the linked layers.\n",
    "\n",
    "In scRNA-seq data, each row corresponds to a cell with a barcode, and each column corresponds to a gene with a gene id, but in the protein assay of a CITEseq experiment the cells are the same along the `axis=0` and the features are different. \n",
    "\n",
    "To collect all the cells and features from 2 datasets we first have to concatenate each anndata and then build a new mudata with these.\n",
    "\n",
    "By default, anndata concatenates on `axis=0` "
   ]
  },
  {
   "cell_type": "code",
   "execution_count": 183,
   "metadata": {},
   "outputs": [
    {
     "data": {
      "text/plain": [
       "AnnData object with n_obs × n_vars = 700 × 345"
      ]
     },
     "execution_count": 183,
     "metadata": {},
     "output_type": "execute_result"
    }
   ],
   "source": [
    "ad.concat([rna_a, rna_b])\n",
    "ad.concat([rna_a, rna_b],axis=0)"
   ]
  },
  {
   "cell_type": "markdown",
   "metadata": {},
   "source": [
    "However, you may have noticed that anndata also defaults to create a concatenated version of the 2 rna with only the features that the 2 matrices have in common, using the parameter `join=\"inner\"`.\n",
    "\n",
    "There may be instances in which you don't want to loose the missing features"
   ]
  },
  {
   "cell_type": "code",
   "execution_count": 184,
   "metadata": {},
   "outputs": [
    {
     "data": {
      "text/plain": [
       "AnnData object with n_obs × n_vars = 700 × 1655"
      ]
     },
     "execution_count": 184,
     "metadata": {},
     "output_type": "execute_result"
    }
   ],
   "source": [
    "ad.concat([rna_a, rna_b],join=\"outer\")"
   ]
  },
  {
   "cell_type": "markdown",
   "metadata": {},
   "source": [
    "Anndata is also filling the variables that don't match with `0`"
   ]
  },
  {
   "cell_type": "code",
   "execution_count": 185,
   "metadata": {},
   "outputs": [
    {
     "data": {
      "text/plain": [
       "array([[0., 0., 0., ..., 0., 0., 0.],\n",
       "       [0., 0., 0., ..., 0., 0., 0.],\n",
       "       [0., 0., 0., ..., 0., 0., 0.],\n",
       "       ...,\n",
       "       [0., 0., 0., ..., 0., 0., 0.],\n",
       "       [0., 0., 0., ..., 0., 0., 0.],\n",
       "       [0., 0., 0., ..., 0., 0., 0.]], dtype=float32)"
      ]
     },
     "execution_count": 185,
     "metadata": {},
     "output_type": "execute_result"
    }
   ],
   "source": [
    "ad.concat([rna_a, rna_b],join=\"outer\").X.toarray()"
   ]
  },
  {
   "cell_type": "code",
   "execution_count": 123,
   "metadata": {},
   "outputs": [
    {
     "data": {
      "text/plain": [
       "False"
      ]
     },
     "execution_count": 123,
     "metadata": {},
     "output_type": "execute_result"
    }
   ],
   "source": [
    "np.isnan(ad.concat([rna_a, rna_b],join=\"outer\").X.toarray()).any()"
   ]
  },
  {
   "cell_type": "markdown",
   "metadata": {},
   "source": [
    "We can use the same convention to concatenate the two protein assays."
   ]
  },
  {
   "cell_type": "code",
   "execution_count": 167,
   "metadata": {},
   "outputs": [],
   "source": [
    "rna_c = ad.concat([rna_a, rna_b],join=\"outer\")\n",
    "prot_c = ad.concat([prot_a, prot_b],join=\"outer\")"
   ]
  },
  {
   "cell_type": "markdown",
   "metadata": {},
   "source": [
    "And now we create the new `MuData` object with the newly concatenated assays"
   ]
  },
  {
   "cell_type": "code",
   "execution_count": 125,
   "metadata": {},
   "outputs": [
    {
     "data": {
      "text/html": [
       "<pre>MuData object with n_obs × n_vars = 700 × 1702\n",
       "  2 modalities\n",
       "    rna:\t700 x 1670\n",
       "    prot:\t700 x 32</pre>"
      ],
      "text/plain": [
       "MuData object with n_obs × n_vars = 700 × 1702\n",
       "  2 modalities\n",
       "    rna:\t700 x 1670\n",
       "    prot:\t700 x 32"
      ]
     },
     "execution_count": 125,
     "metadata": {},
     "output_type": "execute_result"
    }
   ],
   "source": [
    "full = MuData({\"rna\":rna_c, \"prot\": prot_c})\n",
    "full"
   ]
  },
  {
   "cell_type": "code",
   "execution_count": 170,
   "metadata": {},
   "outputs": [
    {
     "data": {
      "text/html": [
       "<div>\n",
       "<style scoped>\n",
       "    .dataframe tbody tr th:only-of-type {\n",
       "        vertical-align: middle;\n",
       "    }\n",
       "\n",
       "    .dataframe tbody tr th {\n",
       "        vertical-align: top;\n",
       "    }\n",
       "\n",
       "    .dataframe thead th {\n",
       "        text-align: right;\n",
       "    }\n",
       "</style>\n",
       "<table border=\"1\" class=\"dataframe\">\n",
       "  <thead>\n",
       "    <tr style=\"text-align: right;\">\n",
       "      <th></th>\n",
       "    </tr>\n",
       "  </thead>\n",
       "  <tbody>\n",
       "    <tr>\n",
       "      <th>ACTCCCATCGTAACAC-1</th>\n",
       "    </tr>\n",
       "    <tr>\n",
       "      <th>ACTCTCGAGCAGTAAT-1</th>\n",
       "    </tr>\n",
       "    <tr>\n",
       "      <th>ACTCTCGCAAGAATAC-1</th>\n",
       "    </tr>\n",
       "    <tr>\n",
       "      <th>ACTCTCGTCGGTTGTA-1</th>\n",
       "    </tr>\n",
       "    <tr>\n",
       "      <th>ACTCTCGTCTATCGTT-1</th>\n",
       "    </tr>\n",
       "    <tr>\n",
       "      <th>...</th>\n",
       "    </tr>\n",
       "    <tr>\n",
       "      <th>AGTACCACATGAGAAT-1</th>\n",
       "    </tr>\n",
       "    <tr>\n",
       "      <th>AGTACCAGTCACTCAA-1</th>\n",
       "    </tr>\n",
       "    <tr>\n",
       "      <th>AGTACCATCCATTTAC-1</th>\n",
       "    </tr>\n",
       "    <tr>\n",
       "      <th>AGTACCATCGATTGGT-1</th>\n",
       "    </tr>\n",
       "    <tr>\n",
       "      <th>AGTACTGTCTTGTGCC-1</th>\n",
       "    </tr>\n",
       "  </tbody>\n",
       "</table>\n",
       "<p>400 rows × 0 columns</p>\n",
       "</div>"
      ],
      "text/plain": [
       "Empty DataFrame\n",
       "Columns: []\n",
       "Index: [ACTCCCATCGTAACAC-1, ACTCTCGAGCAGTAAT-1, ACTCTCGCAAGAATAC-1, ACTCTCGTCGGTTGTA-1, ACTCTCGTCTATCGTT-1, ACTGATGCACTCCTTG-1, ACTGATGGTGTTGCCG-1, ACTGATGGTTCTCCTG-1, ACTGATGTCCCACAGG-1, ACTGATGTCGCAGAGA-1, ACTGCAACAAACTCGT-1, ACTGCAATCAAGATAG-1, ACTGCAATCGGTGCAC-1, ACTGTCCAGCCTCATA-1, ACTGTCCAGGATGCGT-1, ACTGTCCAGGGTTTCT-1, ACTGTCCCACAACGAG-1, ACTGTCCGTACGATCT-1, ACTGTCCGTACTTGTG-1, ACTGTCCGTAGAATAC-1, ACTGTCCGTGGGCTCT-1, ACTGTCCGTTACGATC-1, ACTGTCCTCGACCAAT-1, ACTGTCCTCGCCGAAC-1, ACTGTGACACAAATGA-1, ACTGTGACACACAGCC-1, ACTGTGACACCAGCGT-1, ACTGTGACACGGTGAA-1, ACTGTGATCCTTTAGT-1, ACTGTGATCGAGAAGC-1, ACTTAGGAGGGAGGGT-1, ACTTAGGCAGCTATTG-1, ACTTAGGCAGTGACCC-1, ACTTAGGGTACCATAC-1, ACTTAGGTCAAATGCC-1, ACTTATCCAAGCAATA-1, ACTTATCCAGGATTCT-1, ACTTATCCATATGCGT-1, ACTTATCTCTCGTGGG-1, ACTTATCTCTCTAAGG-1, ACTTCCGAGGCTAAAT-1, ACTTCCGGTTCTGACA-1, ACTTCGCAGGTGGTTG-1, ACTTCGCCACTGGACC-1, ACTTCGCCATTGGGAG-1, ACTTCGCGTCCGGTCA-1, ACTTCGCTCTATCACT-1, ACTTTCAAGTTTCAGC-1, ACTTTCACACACAGAG-1, ACTTTCACATAGCACT-1, ACTTTCATCCCGAGTG-1, ACTTTCATCTTACACT-1, ACTTTGTAGTGATGGC-1, ACTTTGTCAGATAAAC-1, ACTTTGTCAGGAGGTT-1, ACTTTGTGTTGTGGCC-1, AGAAATGAGATGTTCC-1, AGAAATGAGGCTGAAC-1, AGAAATGAGTTAGTAG-1, AGAAATGCATGACTTG-1, AGAACAAAGGATATAC-1, AGAACAATCGCTGTTC-1, AGAACCTAGAGAAGGT-1, AGAACCTAGTTTGTCG-1, AGAACCTCAAGAGTAT-1, AGAAGCGCACAGTGAG-1, AGAAGCGCATGGGTCC-1, AGAAGCGGTCTAGGTT-1, AGAAGCGTCAATCCGA-1, AGAAGCGTCTGTAACG-1, AGAAGTAAGAGGGTAA-1, AGAAGTAAGGAGTACC-1, AGAAGTACAATTGAAG-1, AGAAGTACAGTAGAAT-1, AGAAGTACATAACCCA-1, AGAAGTAGTCCTGGTG-1, AGAAGTATCCTGGTCT-1, AGAAGTATCTGCTAGA-1, AGACAAACAAGTGTCT-1, AGACAAACACGCGCAT-1, AGACAAACATATAGCC-1, AGACAAAGTAACGGTG-1, AGACAAAGTATTGGCT-1, AGACAAATCTCCGAGG-1, AGACAAATCTCGTCGT-1, AGACACTAGCAGCCCT-1, AGACACTAGCGCAATG-1, AGACACTAGGTAGTAT-1, AGACACTAGTGCCTCG-1, AGACACTGTCTAATCG-1, AGACACTGTTGGCCTG-1, AGACACTTCGCGGTAC-1, AGACACTTCTGAATGC-1, AGACAGGAGACCCGCT-1, AGACAGGAGAGAATCT-1, AGACAGGAGGGAGGTG-1, AGACAGGCAGCAGAAC-1, AGACAGGTCGAAACAA-1, AGACCATAGAACCGCA-1, AGACCATCAATCCTTT-1, ...]\n",
       "\n",
       "[400 rows x 0 columns]"
      ]
     },
     "execution_count": 170,
     "metadata": {},
     "output_type": "execute_result"
    }
   ],
   "source": []
  },
  {
   "cell_type": "markdown",
   "metadata": {},
   "source": []
  },
  {
   "cell_type": "markdown",
   "metadata": {},
   "source": [
    "## 2. Concatenating different modalities\n",
    "\n",
    "You may want to concatenate the RNA and the PROT modalities of the same cells. While we don't recommend using this type of concatenation, because we believe that every basic operation you would want to perform on a multimodal object is covered by creating a `MuData` object instead, we know that some of the tools that deal with multimodal data integration have not implemented MuData support yet.\n"
   ]
  },
  {
   "cell_type": "code",
   "execution_count": 126,
   "metadata": {},
   "outputs": [
    {
     "data": {
      "text/plain": [
       "AnnData object with n_obs × n_vars = 300 × 1000\n",
       "    var: 'gene_ids', 'feature_types', 'genome'"
      ]
     },
     "execution_count": 126,
     "metadata": {},
     "output_type": "execute_result"
    }
   ],
   "source": [
    "rna_a"
   ]
  },
  {
   "cell_type": "code",
   "execution_count": 128,
   "metadata": {},
   "outputs": [
    {
     "data": {
      "text/plain": [
       "AnnData object with n_obs × n_vars = 300 × 32\n",
       "    var: 'gene_ids', 'feature_types', 'genome'"
      ]
     },
     "execution_count": 128,
     "metadata": {},
     "output_type": "execute_result"
    }
   ],
   "source": [
    "prot_a"
   ]
  },
  {
   "cell_type": "code",
   "execution_count": 161,
   "metadata": {},
   "outputs": [
    {
     "data": {
      "text/plain": [
       "AnnData object with n_obs × n_vars = 300 × 1032\n",
       "    var: 'gene_ids', 'feature_types', 'genome'"
      ]
     },
     "execution_count": 161,
     "metadata": {},
     "output_type": "execute_result"
    }
   ],
   "source": [
    "adata_paired = ad.concat([rna_a, prot_a], axis=1)\n",
    "adata_paired"
   ]
  },
  {
   "cell_type": "markdown",
   "metadata": {},
   "source": [
    "we now have a concatenated anndata, whith 1032 `.var`  and 600 `.obs`. Let's take a look at the individual layers."
   ]
  },
  {
   "cell_type": "code",
   "execution_count": 149,
   "metadata": {},
   "outputs": [
    {
     "data": {
      "text/html": [
       "<div>\n",
       "<style scoped>\n",
       "    .dataframe tbody tr th:only-of-type {\n",
       "        vertical-align: middle;\n",
       "    }\n",
       "\n",
       "    .dataframe tbody tr th {\n",
       "        vertical-align: top;\n",
       "    }\n",
       "\n",
       "    .dataframe thead th {\n",
       "        text-align: right;\n",
       "    }\n",
       "</style>\n",
       "<table border=\"1\" class=\"dataframe\">\n",
       "  <thead>\n",
       "    <tr style=\"text-align: right;\">\n",
       "      <th></th>\n",
       "    </tr>\n",
       "  </thead>\n",
       "  <tbody>\n",
       "    <tr>\n",
       "      <th>AAACCCAAGAGACAAG-1</th>\n",
       "    </tr>\n",
       "    <tr>\n",
       "      <th>AAACCCAAGGCCTAGA-1</th>\n",
       "    </tr>\n",
       "    <tr>\n",
       "      <th>AAACCCAGTCGTGCCA-1</th>\n",
       "    </tr>\n",
       "    <tr>\n",
       "      <th>AAACCCATCGTGCATA-1</th>\n",
       "    </tr>\n",
       "    <tr>\n",
       "      <th>AAACGAAAGACAAGCC-1</th>\n",
       "    </tr>\n",
       "    <tr>\n",
       "      <th>...</th>\n",
       "    </tr>\n",
       "    <tr>\n",
       "      <th>ACACTGAAGTTCCGGC-1</th>\n",
       "    </tr>\n",
       "    <tr>\n",
       "      <th>ACACTGAGTGCCCGTA-1</th>\n",
       "    </tr>\n",
       "    <tr>\n",
       "      <th>ACACTGAGTTCGTTCC-1</th>\n",
       "    </tr>\n",
       "    <tr>\n",
       "      <th>ACAGAAAAGGTACTGG-1</th>\n",
       "    </tr>\n",
       "    <tr>\n",
       "      <th>ACAGAAACAAATGGAT-1</th>\n",
       "    </tr>\n",
       "  </tbody>\n",
       "</table>\n",
       "<p>300 rows × 0 columns</p>\n",
       "</div>"
      ],
      "text/plain": [
       "Empty DataFrame\n",
       "Columns: []\n",
       "Index: [AAACCCAAGAGACAAG-1, AAACCCAAGGCCTAGA-1, AAACCCAGTCGTGCCA-1, AAACCCATCGTGCATA-1, AAACGAAAGACAAGCC-1, AAACGAAAGAGTGACC-1, AAACGAACATGCCATA-1, AAACGAAGTAATGATG-1, AAACGAAGTTAAAGTG-1, AAACGAATCATACAGC-1, AAACGAATCGTGGAAG-1, AAACGCTAGGTTGGAC-1, AAACGCTCATGCACTA-1, AAACGCTGTACAAACA-1, AAAGAACAGGCCGCTT-1, AAAGAACGTGGATCAG-1, AAAGAACTCCTTATAC-1, AAAGGATAGAGGCCAT-1, AAAGGATCACACTTAG-1, AAAGGATGTGATTAGA-1, AAAGGATGTGGTTTGT-1, AAAGGATTCGAGAATA-1, AAAGGATTCTAAGAAG-1, AAAGGATTCTCTATAC-1, AAAGGGCAGCCGATCC-1, AAAGGGCCAGCCGGTT-1, AAAGGGCGTGACAGCA-1, AAAGGGCGTTCAAACC-1, AAAGGGCTCAGTCACA-1, AAAGGGCTCATTTGGG-1, AAAGGGCTCGAACCAT-1, AAAGGGCTCGGTGTAT-1, AAAGGGCTCTGCTTAT-1, AAAGGTAAGTGCTCGC-1, AAAGGTACATGAGAAT-1, AAAGGTAGTCGCGTCA-1, AAAGGTAGTGTAACGG-1, AAAGGTAGTTACGATC-1, AAAGGTATCCTTATGT-1, AAAGTCCAGCCAGAGT-1, AAAGTCCCAAATTAGG-1, AAAGTCCCAACCACAT-1, AAAGTCCCACAAGGTG-1, AAAGTCCGTAGCTTTG-1, AAAGTCCGTGTGTCGC-1, AAAGTGAAGCAGCGAT-1, AAAGTGAAGTGCAGCA-1, AAAGTGAAGTTCCGTA-1, AAAGTGACAGAGCTAG-1, AAAGTGAGTCGGCTAC-1, AAAGTGAGTTTGTTGG-1, AAATGGAAGATCGCTT-1, AAATGGAAGGCGCTCT-1, AAATGGAGTGGCAGAT-1, AAATGGAGTTAAGTCC-1, AAATGGATCCGGGACT-1, AAATGGATCGCATTGA-1, AACAAAGCAACAAGTA-1, AACAAAGGTCATGCAT-1, AACAAAGTCTTCGCTG-1, AACAACCAGGATGTTA-1, AACAACCCATGACTCA-1, AACAACCGTGCACATT-1, AACAACCTCGAGTGGA-1, AACAACCTCGGTCACG-1, AACAACCTCTAAGAAG-1, AACAAGAAGAAGCCAC-1, AACAAGAAGCCGTCGT-1, AACAAGAAGCGTACAG-1, AACAAGACAACTGCTA-1, AACAAGAGTCATAACC-1, AACAAGATCCCATAGA-1, AACAAGATCGCTCTAC-1, AACACACAGATGGCGT-1, AACACACAGGGCTGAT-1, AACACACCACGCTGCA-1, AACACACGTAACAGGC-1, AACACACGTACGTGTT-1, AACACACGTTGGGATG-1, AACACACTCTATCACT-1, AACAGGGAGATACATG-1, AACAGGGGTAACATAG-1, AACAGGGGTCAACATC-1, AACAGGGGTCAGTCCG-1, AACAGGGTCAATCGGT-1, AACCAACCACAGTATC-1, AACCAACGTAACATCC-1, AACCAACGTCACAGAG-1, AACCAACGTCAGGTAG-1, AACCATGAGATCGGTG-1, AACCATGAGGTCGTCC-1, AACCATGTCTAAGGAA-1, AACCCAAAGGGTGGGA-1, AACCCAACAGCGGTTC-1, AACCCAAGTATCGGTT-1, AACCTGAAGCTGGCTC-1, AACCTGAAGTGCAGGT-1, AACCTGAGTCGAACGA-1, AACCTGAGTCGAGCTC-1, AACCTGAGTCTCTCAC-1, ...]\n",
       "\n",
       "[300 rows x 0 columns]"
      ]
     },
     "execution_count": 149,
     "metadata": {},
     "output_type": "execute_result"
    }
   ],
   "source": [
    "adata_paired.obs"
   ]
  },
  {
   "cell_type": "code",
   "execution_count": 150,
   "metadata": {},
   "outputs": [
    {
     "data": {
      "text/html": [
       "<div>\n",
       "<style scoped>\n",
       "    .dataframe tbody tr th:only-of-type {\n",
       "        vertical-align: middle;\n",
       "    }\n",
       "\n",
       "    .dataframe tbody tr th {\n",
       "        vertical-align: top;\n",
       "    }\n",
       "\n",
       "    .dataframe thead th {\n",
       "        text-align: right;\n",
       "    }\n",
       "</style>\n",
       "<table border=\"1\" class=\"dataframe\">\n",
       "  <thead>\n",
       "    <tr style=\"text-align: right;\">\n",
       "      <th></th>\n",
       "      <th>gene_ids</th>\n",
       "      <th>feature_types</th>\n",
       "      <th>genome</th>\n",
       "    </tr>\n",
       "  </thead>\n",
       "  <tbody>\n",
       "    <tr>\n",
       "      <th>MIR1302-2HG</th>\n",
       "      <td>ENSG00000243485</td>\n",
       "      <td>Gene Expression</td>\n",
       "      <td>GRCh38</td>\n",
       "    </tr>\n",
       "    <tr>\n",
       "      <th>FAM138A</th>\n",
       "      <td>ENSG00000237613</td>\n",
       "      <td>Gene Expression</td>\n",
       "      <td>GRCh38</td>\n",
       "    </tr>\n",
       "    <tr>\n",
       "      <th>OR4F5</th>\n",
       "      <td>ENSG00000186092</td>\n",
       "      <td>Gene Expression</td>\n",
       "      <td>GRCh38</td>\n",
       "    </tr>\n",
       "    <tr>\n",
       "      <th>AL627309.1</th>\n",
       "      <td>ENSG00000238009</td>\n",
       "      <td>Gene Expression</td>\n",
       "      <td>GRCh38</td>\n",
       "    </tr>\n",
       "    <tr>\n",
       "      <th>AL627309.3</th>\n",
       "      <td>ENSG00000239945</td>\n",
       "      <td>Gene Expression</td>\n",
       "      <td>GRCh38</td>\n",
       "    </tr>\n",
       "    <tr>\n",
       "      <th>...</th>\n",
       "      <td>...</td>\n",
       "      <td>...</td>\n",
       "      <td>...</td>\n",
       "    </tr>\n",
       "    <tr>\n",
       "      <th>HLA-DR_TotalSeqB</th>\n",
       "      <td>HLA-DR</td>\n",
       "      <td>Antibody Capture</td>\n",
       "      <td></td>\n",
       "    </tr>\n",
       "    <tr>\n",
       "      <th>TIGIT_TotalSeqB</th>\n",
       "      <td>TIGIT</td>\n",
       "      <td>Antibody Capture</td>\n",
       "      <td></td>\n",
       "    </tr>\n",
       "    <tr>\n",
       "      <th>IgG1_control_TotalSeqB</th>\n",
       "      <td>IgG1</td>\n",
       "      <td>Antibody Capture</td>\n",
       "      <td></td>\n",
       "    </tr>\n",
       "    <tr>\n",
       "      <th>IgG2a_control_TotalSeqB</th>\n",
       "      <td>IgG2a</td>\n",
       "      <td>Antibody Capture</td>\n",
       "      <td></td>\n",
       "    </tr>\n",
       "    <tr>\n",
       "      <th>IgG2b_control_TotalSeqB</th>\n",
       "      <td>IgG2b</td>\n",
       "      <td>Antibody Capture</td>\n",
       "      <td></td>\n",
       "    </tr>\n",
       "  </tbody>\n",
       "</table>\n",
       "<p>1032 rows × 3 columns</p>\n",
       "</div>"
      ],
      "text/plain": [
       "                                gene_ids     feature_types  genome\n",
       "MIR1302-2HG              ENSG00000243485   Gene Expression  GRCh38\n",
       "FAM138A                  ENSG00000237613   Gene Expression  GRCh38\n",
       "OR4F5                    ENSG00000186092   Gene Expression  GRCh38\n",
       "AL627309.1               ENSG00000238009   Gene Expression  GRCh38\n",
       "AL627309.3               ENSG00000239945   Gene Expression  GRCh38\n",
       "...                                  ...               ...     ...\n",
       "HLA-DR_TotalSeqB                  HLA-DR  Antibody Capture        \n",
       "TIGIT_TotalSeqB                    TIGIT  Antibody Capture        \n",
       "IgG1_control_TotalSeqB              IgG1  Antibody Capture        \n",
       "IgG2a_control_TotalSeqB            IgG2a  Antibody Capture        \n",
       "IgG2b_control_TotalSeqB            IgG2b  Antibody Capture        \n",
       "\n",
       "[1032 rows x 3 columns]"
      ]
     },
     "execution_count": 150,
     "metadata": {},
     "output_type": "execute_result"
    }
   ],
   "source": [
    "adata_paired.var"
   ]
  },
  {
   "cell_type": "markdown",
   "metadata": {},
   "source": [
    "the `.obs` layer is empty now, and we need to repopulate it. "
   ]
  },
  {
   "cell_type": "code",
   "execution_count": 151,
   "metadata": {},
   "outputs": [],
   "source": [
    "rna_cols=rna_a.obs.columns\n",
    "prot_cols=prot_a.obs.columns\n",
    "\n",
    "rnaobs = rna_a.obs.copy()\n",
    "rnaobs.columns= [\"rna:\"+ x for x in rna_cols]\n",
    "protobs = prot.obs.copy()\n",
    "protobs.columns= [\"prot:\"+ x for x in prot_cols]\n",
    "adata_paired.obs = pd.merge(rnaobs, protobs, left_index=True, right_index=True)\n"
   ]
  },
  {
   "cell_type": "markdown",
   "metadata": {},
   "source": [
    "For more information on how anndata perform concatenation please check this tutorial \n",
    "\n",
    "#TODO: should we eventually merge the Mudata and anndata concat scenarios?\n",
    "\n"
   ]
  }
 ],
 "metadata": {
  "kernelspec": {
   "display_name": "Python 3.9.15 ('scversetutorials')",
   "language": "python",
   "name": "python3"
  },
  "language_info": {
   "codemirror_mode": {
    "name": "ipython",
    "version": 3
   },
   "file_extension": ".py",
   "mimetype": "text/x-python",
   "name": "python",
   "nbconvert_exporter": "python",
   "pygments_lexer": "ipython3",
   "version": "3.10.8"
  },
  "orig_nbformat": 4,
  "vscode": {
   "interpreter": {
    "hash": "9f2c2ed92b9244d41be0bdd21ae19cc7b57648bb6fdcd4cb66fc3fbd398bef96"
   }
  }
 },
 "nbformat": 4,
 "nbformat_minor": 2
}
